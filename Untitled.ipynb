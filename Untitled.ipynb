{
 "cells": [
  {
   "cell_type": "code",
   "execution_count": 1,
   "metadata": {
    "collapsed": true
   },
   "outputs": [],
   "source": [
    "class Api():\n",
    "    def __init__(self):\n",
    "        self.connection = Connection()\n",
    "\n",
    "    def appdetails(self,appid):\n",
    "        req = self.connection.request(\"?request=appdetails&appid={}\".format(appid))\n",
    "        return Response(req.status, req.data)\n",
    "\n",
    "    def genre(genre):\n",
    "        req = self.connection.request(\"?request=appdetails&appid={}\".format(genre))\n",
    "        return Response(req.status, req.data)\n",
    "\n",
    "    def top100in2weeks():\n",
    "        req = self.connection.request(\"?request=top100in2weeks\")\n",
    "        return Response(req.status, req.data)\n",
    "\n",
    "    def top100forever():\n",
    "        req = self.connection.request(\"?request=top100forever\")\n",
    "        return Response(req.status, req.data)\n",
    "\n",
    "    def top100owned():\n",
    "        req = self.connection.request(\"?request=top100owned\")\n",
    "        return Response(req.status, req.data)\n",
    "\n",
    "    def all():\n",
    "        req = self.connection.request(\"?request=all\")\n",
    "        return Response(req.status, req.data)"
   ]
  },
  {
   "cell_type": "code",
   "execution_count": 2,
   "metadata": {
    "collapsed": true
   },
   "outputs": [],
   "source": [
    "class Response():\n",
    "    def __init__(self,status,data):\n",
    "        self.status = status\n",
    "        self.data = data"
   ]
  },
  {
   "cell_type": "code",
   "execution_count": 25,
   "metadata": {
    "collapsed": true
   },
   "outputs": [],
   "source": [
    "import requests\n",
    "\n",
    "class Connection():\n",
    "    base_url = 'https://steamspy.com/api.php'\n",
    "    def request(self,url):\n",
    "        response = requests.get(base_url+url)\n",
    "        status = response.status_code\n",
    "        data = response.json()\n",
    "        return "
   ]
  },
  {
   "cell_type": "code",
   "execution_count": 4,
   "metadata": {
    "collapsed": true
   },
   "outputs": [],
   "source": [
    "ss = Api()"
   ]
  },
  {
   "cell_type": "code",
   "execution_count": 5,
   "metadata": {
    "collapsed": false
   },
   "outputs": [
    {
     "data": {
      "text/plain": [
       "<__main__.Api at 0x10475a9b0>"
      ]
     },
     "execution_count": 5,
     "metadata": {},
     "output_type": "execute_result"
    }
   ],
   "source": [
    "ss"
   ]
  },
  {
   "cell_type": "code",
   "execution_count": 22,
   "metadata": {
    "collapsed": false
   },
   "outputs": [
    {
     "ename": "TypeError",
     "evalue": "appdetails() takes 1 positional argument but 2 were given",
     "output_type": "error",
     "traceback": [
      "\u001b[0;31m---------------------------------------------------------------------------\u001b[0m",
      "\u001b[0;31mTypeError\u001b[0m                                 Traceback (most recent call last)",
      "\u001b[0;32m<ipython-input-22-e1454e5c92e8>\u001b[0m in \u001b[0;36m<module>\u001b[0;34m()\u001b[0m\n\u001b[0;32m----> 1\u001b[0;31m \u001b[0mss\u001b[0m\u001b[0;34m.\u001b[0m\u001b[0mappdetails\u001b[0m\u001b[0;34m(\u001b[0m\u001b[0;36m730\u001b[0m\u001b[0;34m)\u001b[0m\u001b[0;34m\u001b[0m\u001b[0m\n\u001b[0m",
      "\u001b[0;31mTypeError\u001b[0m: appdetails() takes 1 positional argument but 2 were given"
     ]
    }
   ],
   "source": [
    "ss.appdetails(730)"
   ]
  },
  {
   "cell_type": "code",
   "execution_count": 23,
   "metadata": {
    "collapsed": true
   },
   "outputs": [],
   "source": [
    "def appdetails(appid):\n",
    "        req = Connection().request(\"?request=appdetails&appid={}\".format(appid))\n",
    "        return Response(req.status, req.data)"
   ]
  },
  {
   "cell_type": "code",
   "execution_count": 26,
   "metadata": {
    "collapsed": false
   },
   "outputs": [
    {
     "ename": "AttributeError",
     "evalue": "'tuple' object has no attribute 'status'",
     "output_type": "error",
     "traceback": [
      "\u001b[0;31m---------------------------------------------------------------------------\u001b[0m",
      "\u001b[0;31mAttributeError\u001b[0m                            Traceback (most recent call last)",
      "\u001b[0;32m<ipython-input-26-3b4d0f4ba144>\u001b[0m in \u001b[0;36m<module>\u001b[0;34m()\u001b[0m\n\u001b[0;32m----> 1\u001b[0;31m \u001b[0mappdetails\u001b[0m\u001b[0;34m(\u001b[0m\u001b[0;36m720\u001b[0m\u001b[0;34m)\u001b[0m\u001b[0;34m\u001b[0m\u001b[0m\n\u001b[0m",
      "\u001b[0;32m<ipython-input-23-7e04d93bda05>\u001b[0m in \u001b[0;36mappdetails\u001b[0;34m(appid)\u001b[0m\n\u001b[1;32m      1\u001b[0m \u001b[0;32mdef\u001b[0m \u001b[0mappdetails\u001b[0m\u001b[0;34m(\u001b[0m\u001b[0mappid\u001b[0m\u001b[0;34m)\u001b[0m\u001b[0;34m:\u001b[0m\u001b[0;34m\u001b[0m\u001b[0m\n\u001b[1;32m      2\u001b[0m         \u001b[0mreq\u001b[0m \u001b[0;34m=\u001b[0m \u001b[0mConnection\u001b[0m\u001b[0;34m(\u001b[0m\u001b[0;34m)\u001b[0m\u001b[0;34m.\u001b[0m\u001b[0mrequest\u001b[0m\u001b[0;34m(\u001b[0m\u001b[0;34m\"?request=appdetails&appid={}\"\u001b[0m\u001b[0;34m.\u001b[0m\u001b[0mformat\u001b[0m\u001b[0;34m(\u001b[0m\u001b[0mappid\u001b[0m\u001b[0;34m)\u001b[0m\u001b[0;34m)\u001b[0m\u001b[0;34m\u001b[0m\u001b[0m\n\u001b[0;32m----> 3\u001b[0;31m         \u001b[0;32mreturn\u001b[0m \u001b[0mResponse\u001b[0m\u001b[0;34m(\u001b[0m\u001b[0mreq\u001b[0m\u001b[0;34m.\u001b[0m\u001b[0mstatus\u001b[0m\u001b[0;34m,\u001b[0m \u001b[0mreq\u001b[0m\u001b[0;34m.\u001b[0m\u001b[0mdata\u001b[0m\u001b[0;34m)\u001b[0m\u001b[0;34m\u001b[0m\u001b[0m\n\u001b[0m",
      "\u001b[0;31mAttributeError\u001b[0m: 'tuple' object has no attribute 'status'"
     ]
    }
   ],
   "source": [
    "appdetails(720)"
   ]
  },
  {
   "cell_type": "code",
   "execution_count": 10,
   "metadata": {
    "collapsed": false
   },
   "outputs": [
    {
     "data": {
      "text/plain": [
       "'?request=appdetails&appid=720'"
      ]
     },
     "execution_count": 10,
     "metadata": {},
     "output_type": "execute_result"
    }
   ],
   "source": [
    "\"?request=appdetails&appid={}\".format(720)"
   ]
  },
  {
   "cell_type": "code",
   "execution_count": 13,
   "metadata": {
    "collapsed": false
   },
   "outputs": [
    {
     "data": {
      "text/plain": [
       "'https://steamspy.com/api.php?request=appdetails&appid=720'"
      ]
     },
     "execution_count": 13,
     "metadata": {},
     "output_type": "execute_result"
    }
   ],
   "source": [
    "base_url+'?request=appdetails&appid=720'"
   ]
  },
  {
   "cell_type": "code",
   "execution_count": 12,
   "metadata": {
    "collapsed": true
   },
   "outputs": [],
   "source": [
    "base_url = 'https://steamspy.com/api.php'"
   ]
  },
  {
   "cell_type": "code",
   "execution_count": 14,
   "metadata": {
    "collapsed": true
   },
   "outputs": [],
   "source": [
    "def request(url):\n",
    "        response = requests.get(base_url+url)\n",
    "        status = response.status_code\n",
    "        data = response.json()\n",
    "        return status,data"
   ]
  },
  {
   "cell_type": "code",
   "execution_count": 15,
   "metadata": {
    "collapsed": false
   },
   "outputs": [
    {
     "data": {
      "text/plain": [
       "(200,\n",
       " {'appid': 720,\n",
       "  'average_2weeks': 0,\n",
       "  'average_forever': 0,\n",
       "  'ccu': 0,\n",
       "  'developer': None,\n",
       "  'median_2weeks': 0,\n",
       "  'median_forever': 0,\n",
       "  'name': None,\n",
       "  'owners': 0,\n",
       "  'owners_variance': 0,\n",
       "  'players_2weeks': 0,\n",
       "  'players_2weeks_variance': 0,\n",
       "  'players_forever': 0,\n",
       "  'players_forever_variance': 0,\n",
       "  'price': None,\n",
       "  'publisher': None,\n",
       "  'score_rank': '',\n",
       "  'tags': []})"
      ]
     },
     "execution_count": 15,
     "metadata": {},
     "output_type": "execute_result"
    }
   ],
   "source": [
    "request('?request=appdetails&appid=720')"
   ]
  },
  {
   "cell_type": "code",
   "execution_count": 28,
   "metadata": {
    "collapsed": false
   },
   "outputs": [],
   "source": [
    "c = Connection()\n"
   ]
  },
  {
   "cell_type": "code",
   "execution_count": 29,
   "metadata": {
    "collapsed": false
   },
   "outputs": [
    {
     "data": {
      "text/plain": [
       "(200,\n",
       " {'appid': 720,\n",
       "  'average_2weeks': 0,\n",
       "  'average_forever': 0,\n",
       "  'ccu': 0,\n",
       "  'developer': None,\n",
       "  'median_2weeks': 0,\n",
       "  'median_forever': 0,\n",
       "  'name': None,\n",
       "  'owners': 0,\n",
       "  'owners_variance': 0,\n",
       "  'players_2weeks': 0,\n",
       "  'players_2weeks_variance': 0,\n",
       "  'players_forever': 0,\n",
       "  'players_forever_variance': 0,\n",
       "  'price': None,\n",
       "  'publisher': None,\n",
       "  'score_rank': '',\n",
       "  'tags': []})"
      ]
     },
     "execution_count": 29,
     "metadata": {},
     "output_type": "execute_result"
    }
   ],
   "source": [
    "c.request('?request=appdetails&appid=720')"
   ]
  },
  {
   "cell_type": "code",
   "execution_count": null,
   "metadata": {
    "collapsed": true
   },
   "outputs": [],
   "source": [
    "c.request"
   ]
  }
 ],
 "metadata": {
  "anaconda-cloud": {},
  "kernelspec": {
   "display_name": "Python [conda root]",
   "language": "python",
   "name": "conda-root-py"
  },
  "language_info": {
   "codemirror_mode": {
    "name": "ipython",
    "version": 3
   },
   "file_extension": ".py",
   "mimetype": "text/x-python",
   "name": "python",
   "nbconvert_exporter": "python",
   "pygments_lexer": "ipython3",
   "version": "3.5.2"
  }
 },
 "nbformat": 4,
 "nbformat_minor": 1
}
